{
 "cells": [
  {
   "cell_type": "markdown",
   "metadata": {},
   "source": [
    "### Assignment"
   ]
  },
  {
   "cell_type": "code",
   "execution_count": 14,
   "metadata": {},
   "outputs": [
    {
     "name": "stdout",
     "output_type": "stream",
     "text": [
      "statement of my socio_economic characteristics are: Age 21years, Status single, Gender female, Nationality nigerian, Education degree holder, Language yoruba and english and Religion muslim.\n"
     ]
    }
   ],
   "source": [
    "age='21years,'\n",
    "status='single,'\n",
    "gender='female,'\n",
    "nationality='nigerian,'\n",
    "education='degree holder,'\n",
    "language='yoruba and english'\n",
    "religion='muslim.'\n",
    "print('statement of my socio_economic characteristics are:','Age',age +' '+ 'Status',status +' '+ 'Gender',gender +' '+ 'Nationality',nationality +' '+ 'Education',education +' '+ 'Language',language +' '+'and', 'Religion',religion)\n"
   ]
  },
  {
   "cell_type": "code",
   "execution_count": 24,
   "metadata": {},
   "outputs": [
    {
     "name": "stdout",
     "output_type": "stream",
     "text": [
      "Statement of the State Government with their Corresponding Governors are: Dr. Victor Okezie Ikpeazu,Jibrilla Bindow,Emmanuel Udom,Willie Obiano,Barrister Muhammed Abubakar,Hon. Seriake Dickson,Samuel Ortom,Kashim Shettima,Prof.Ben Ayade,Senator Ifeanyi Okowa,Engr Dave Umahi,Godwin Obaseki,Ayo Fayose,Ifeanyi Ugwuanyi,Ibrahim Dakwambo,Chief Rochas Okorocha,Alhaji Badaru Abubakar,Mallam Nasir El-Rufai,Dr Umar Danguje,Aminu Masari,Atiku Bagudu,Yahaya Bello,AbdulFatah Ahmad,Ambode Akinwumi,Umaru Tanko Al-Makura,Alhaji Abubakar Sani-Lulu Bello,Ibikunle Amosun,Oluwarontimi Akeredolu,Seyi Makinde,Adegboyega Oyetola,Hon.Simon Lanlong,Nyesom Wike,Hon.Aminu Waziri Tambuwa,Dr Darius Ishaku,Ibrahim Geidam,Abdulaziz Abdubakar Yari.\n"
     ]
    }
   ],
   "source": [
    "Abia='Dr. Victor Okezie Ikpeazu,'\n",
    "Adamawa='Jibrilla Bindow,'\n",
    "Akwa_Ibom='Emmanuel Udom,'\n",
    "Anambra='Willie Obiano,'\n",
    "Bauchi='Barrister Muhammed Abubakar,'\n",
    "Bayelsa='Hon. Seriake Dickson,'\n",
    "Benue='Samuel Ortom,'\n",
    "Borno='Kashim Shettima,'\n",
    "Cross_River='Prof.Ben Ayade,'\n",
    "Delta='Senator Ifeanyi Okowa,'\n",
    "Ebonyi='Engr Dave Umahi,'\n",
    "Edo='Godwin Obaseki,'\n",
    "Ekiti='Ayo Fayose,'\n",
    "Enugu='Ifeanyi Ugwuanyi,'\n",
    "Gombe='Ibrahim Dakwambo,'\n",
    "Imo='Chief Rochas Okorocha,'\n",
    "Jigawa='Alhaji Badaru Abubakar,'\n",
    "Kaduna='Mallam Nasir El-Rufai,'\n",
    "Kano='Dr Umar Danguje,'\n",
    "Katsina='Aminu Masari,'\n",
    "Kebbi='Atiku Bagudu,'\n",
    "Kogi='Yahaya Bello,'\n",
    "Kwara='AbdulFatah Ahmad,'\n",
    "Lagos='Ambode Akinwumi,'\n",
    "Nasarawa='Umaru Tanko Al-Makura,'\n",
    "Niger='Alhaji Abubakar Sani-Lulu Bello,'\n",
    "Ogun='Ibikunle Amosun,'\n",
    "Ondo='Oluwarontimi Akeredolu,'\n",
    "Oyo='Seyi Makinde,'\n",
    "Osun='Adegboyega Oyetola,'\n",
    "Plateau='Hon.Simon Lanlong,'\n",
    "Rivers='Nyesom Wike,'\n",
    "Sokoto='Hon.Aminu Waziri Tambuwa,'\n",
    "Taraba='Dr Darius Ishaku,'\n",
    "Yobe='Ibrahim Geidam,'\n",
    "Zamfara='Abdulaziz Abdubakar Yari.' \n",
    "print('Statement of the State Government with their Corresponding Governors are:', Abia+Adamawa+Akwa_Ibom+Anambra+Bauchi+Bayelsa+Benue+Borno+Cross_River+Delta+Ebonyi+Edo+Ekiti+Enugu+Gombe+Imo+Jigawa+Kaduna+Kano+Katsina+Kebbi+Kogi+Kwara+Lagos+Nasarawa+Niger+Ogun+Ondo+Oyo+Osun+Plateau+Rivers+Sokoto+Taraba+Yobe+Zamfara)"
   ]
  },
  {
   "cell_type": "code",
   "execution_count": null,
   "metadata": {},
   "outputs": [],
   "source": []
  }
 ],
 "metadata": {
  "kernelspec": {
   "display_name": "Python 3",
   "language": "python",
   "name": "python3"
  },
  "language_info": {
   "codemirror_mode": {
    "name": "ipython",
    "version": 3
   },
   "file_extension": ".py",
   "mimetype": "text/x-python",
   "name": "python",
   "nbconvert_exporter": "python",
   "pygments_lexer": "ipython3",
   "version": "3.7.4"
  }
 },
 "nbformat": 4,
 "nbformat_minor": 2
}
