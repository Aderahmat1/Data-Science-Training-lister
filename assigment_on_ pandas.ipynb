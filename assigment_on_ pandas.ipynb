{
 "cells": [
  {
   "cell_type": "code",
   "execution_count": 136,
   "metadata": {},
   "outputs": [
    {
     "data": {
      "text/plain": [
       "0     5\n",
       "1     7\n",
       "2     9\n",
       "3    11\n",
       "4    13\n",
       "5    15\n",
       "6    17\n",
       "7    19\n",
       "8    21\n",
       "9    23\n",
       "dtype: int64"
      ]
     },
     "execution_count": 136,
     "metadata": {},
     "output_type": "execute_result"
    }
   ],
   "source": [
    "import pandas as pd#creating a series\n",
    "y= pd.Series(range(2,12))#2,3,4,5,6,7,8,9,10,11\n",
    "x= pd.Series(range(3,13))#3,4,5,6,7,8,9,10,11,12\n",
    "z = y+x\n",
    "z\n"
   ]
  },
  {
   "cell_type": "code",
   "execution_count": 137,
   "metadata": {},
   "outputs": [
    {
     "data": {
      "text/plain": [
       "A   NaN\n",
       "B   NaN\n",
       "C   NaN\n",
       "D   NaN\n",
       "E   NaN\n",
       "F   NaN\n",
       "G   NaN\n",
       "H   NaN\n",
       "I   NaN\n",
       "J   NaN\n",
       "dtype: float64"
      ]
     },
     "execution_count": 137,
     "metadata": {},
     "output_type": "execute_result"
    }
   ],
   "source": [
    "w= pd.Series(z,index=['A','B','C','D','E','F','G','H','I','J'])#representing the indexes with letters\n",
    "w"
   ]
  },
  {
   "cell_type": "code",
   "execution_count": 138,
   "metadata": {},
   "outputs": [
    {
     "data": {
      "text/plain": [
       "DatetimeIndex(['2020-01-01', '2020-01-02', '2020-01-03', '2020-01-04',\n",
       "               '2020-01-05', '2020-01-06'],\n",
       "              dtype='datetime64[ns]', freq='D')"
      ]
     },
     "execution_count": 138,
     "metadata": {},
     "output_type": "execute_result"
    }
   ],
   "source": [
    "Dates = pd.date_range('20200101', periods=6)#creating a dataframe by passing a numpy array with datetime index and\n",
    "#labelled columns\n",
    "Dates"
   ]
  },
  {
   "cell_type": "code",
   "execution_count": 139,
   "metadata": {},
   "outputs": [
    {
     "data": {
      "text/html": [
       "<div>\n",
       "<style scoped>\n",
       "    .dataframe tbody tr th:only-of-type {\n",
       "        vertical-align: middle;\n",
       "    }\n",
       "\n",
       "    .dataframe tbody tr th {\n",
       "        vertical-align: top;\n",
       "    }\n",
       "\n",
       "    .dataframe thead th {\n",
       "        text-align: right;\n",
       "    }\n",
       "</style>\n",
       "<table border=\"1\" class=\"dataframe\">\n",
       "  <thead>\n",
       "    <tr style=\"text-align: right;\">\n",
       "      <th></th>\n",
       "      <th>A</th>\n",
       "      <th>B</th>\n",
       "      <th>C</th>\n",
       "      <th>D</th>\n",
       "      <th>E</th>\n",
       "      <th>F</th>\n",
       "    </tr>\n",
       "  </thead>\n",
       "  <tbody>\n",
       "    <tr>\n",
       "      <td>2020-01-01</td>\n",
       "      <td>0.207325</td>\n",
       "      <td>-0.496797</td>\n",
       "      <td>0.106358</td>\n",
       "      <td>0.882424</td>\n",
       "      <td>0.753371</td>\n",
       "      <td>-1.186406</td>\n",
       "    </tr>\n",
       "    <tr>\n",
       "      <td>2020-01-02</td>\n",
       "      <td>0.585826</td>\n",
       "      <td>1.589052</td>\n",
       "      <td>-0.611083</td>\n",
       "      <td>-0.676850</td>\n",
       "      <td>0.468258</td>\n",
       "      <td>-0.719164</td>\n",
       "    </tr>\n",
       "    <tr>\n",
       "      <td>2020-01-03</td>\n",
       "      <td>-1.479526</td>\n",
       "      <td>-0.813674</td>\n",
       "      <td>0.580145</td>\n",
       "      <td>1.110416</td>\n",
       "      <td>1.712101</td>\n",
       "      <td>-0.874593</td>\n",
       "    </tr>\n",
       "    <tr>\n",
       "      <td>2020-01-04</td>\n",
       "      <td>1.328692</td>\n",
       "      <td>0.240333</td>\n",
       "      <td>1.124939</td>\n",
       "      <td>0.369621</td>\n",
       "      <td>-0.099422</td>\n",
       "      <td>1.118252</td>\n",
       "    </tr>\n",
       "    <tr>\n",
       "      <td>2020-01-05</td>\n",
       "      <td>0.332356</td>\n",
       "      <td>-0.517262</td>\n",
       "      <td>0.227473</td>\n",
       "      <td>-0.686535</td>\n",
       "      <td>-0.199573</td>\n",
       "      <td>0.126164</td>\n",
       "    </tr>\n",
       "    <tr>\n",
       "      <td>2020-01-06</td>\n",
       "      <td>-0.864971</td>\n",
       "      <td>0.478215</td>\n",
       "      <td>0.108557</td>\n",
       "      <td>0.519524</td>\n",
       "      <td>0.237151</td>\n",
       "      <td>1.319588</td>\n",
       "    </tr>\n",
       "  </tbody>\n",
       "</table>\n",
       "</div>"
      ],
      "text/plain": [
       "                   A         B         C         D         E         F\n",
       "2020-01-01  0.207325 -0.496797  0.106358  0.882424  0.753371 -1.186406\n",
       "2020-01-02  0.585826  1.589052 -0.611083 -0.676850  0.468258 -0.719164\n",
       "2020-01-03 -1.479526 -0.813674  0.580145  1.110416  1.712101 -0.874593\n",
       "2020-01-04  1.328692  0.240333  1.124939  0.369621 -0.099422  1.118252\n",
       "2020-01-05  0.332356 -0.517262  0.227473 -0.686535 -0.199573  0.126164\n",
       "2020-01-06 -0.864971  0.478215  0.108557  0.519524  0.237151  1.319588"
      ]
     },
     "execution_count": 139,
     "metadata": {},
     "output_type": "execute_result"
    }
   ],
   "source": [
    "import numpy as np#creating by random,indicating the index and columns\n",
    "dd= pd.DataFrame(np.random.randn (6,6), index=Dates, columns= list('ABCDEF'))\n",
    "dd"
   ]
  },
  {
   "cell_type": "code",
   "execution_count": 140,
   "metadata": {},
   "outputs": [
    {
     "data": {
      "text/html": [
       "<div>\n",
       "<style scoped>\n",
       "    .dataframe tbody tr th:only-of-type {\n",
       "        vertical-align: middle;\n",
       "    }\n",
       "\n",
       "    .dataframe tbody tr th {\n",
       "        vertical-align: top;\n",
       "    }\n",
       "\n",
       "    .dataframe thead th {\n",
       "        text-align: right;\n",
       "    }\n",
       "</style>\n",
       "<table border=\"1\" class=\"dataframe\">\n",
       "  <thead>\n",
       "    <tr style=\"text-align: right;\">\n",
       "      <th></th>\n",
       "      <th>A</th>\n",
       "      <th>B</th>\n",
       "      <th>C</th>\n",
       "      <th>D</th>\n",
       "      <th>E</th>\n",
       "    </tr>\n",
       "  </thead>\n",
       "  <tbody>\n",
       "    <tr>\n",
       "      <td>0</td>\n",
       "      <td>1.0</td>\n",
       "      <td>2013-01-02</td>\n",
       "      <td>1</td>\n",
       "      <td>3</td>\n",
       "      <td>train</td>\n",
       "    </tr>\n",
       "    <tr>\n",
       "      <td>1</td>\n",
       "      <td>1.0</td>\n",
       "      <td>2013-01-02</td>\n",
       "      <td>1</td>\n",
       "      <td>3</td>\n",
       "      <td>test</td>\n",
       "    </tr>\n",
       "    <tr>\n",
       "      <td>2</td>\n",
       "      <td>1.0</td>\n",
       "      <td>2013-01-02</td>\n",
       "      <td>1</td>\n",
       "      <td>3</td>\n",
       "      <td>train</td>\n",
       "    </tr>\n",
       "    <tr>\n",
       "      <td>3</td>\n",
       "      <td>1.0</td>\n",
       "      <td>2013-01-02</td>\n",
       "      <td>1</td>\n",
       "      <td>3</td>\n",
       "      <td>test</td>\n",
       "    </tr>\n",
       "  </tbody>\n",
       "</table>\n",
       "</div>"
      ],
      "text/plain": [
       "     A          B  C  D      E\n",
       "0  1.0 2013-01-02  1  3  train\n",
       "1  1.0 2013-01-02  1  3   test\n",
       "2  1.0 2013-01-02  1  3  train\n",
       "3  1.0 2013-01-02  1  3   test"
      ]
     },
     "execution_count": 140,
     "metadata": {},
     "output_type": "execute_result"
    }
   ],
   "source": [
    "df1 = pd.DataFrame({'A':1., 'B':pd.Timestamp('20130102'), 'C':pd.Series(1, index = list(range(4))), 'D':np.array([3]*4),\n",
    "'E':pd.Categorical([\"train\",\"test\",\"train\",\"test\"])})\n",
    "df1#creating a dataframe by passing dict of objects that can be converted to series like"
   ]
  },
  {
   "cell_type": "code",
   "execution_count": 141,
   "metadata": {},
   "outputs": [
    {
     "data": {
      "text/plain": [
       "A           float64\n",
       "B    datetime64[ns]\n",
       "C             int64\n",
       "D             int32\n",
       "E          category\n",
       "dtype: object"
      ]
     },
     "execution_count": 141,
     "metadata": {},
     "output_type": "execute_result"
    }
   ],
   "source": [
    "df1.dtypes#the coloum of the resulting dataframe have different types"
   ]
  },
  {
   "cell_type": "code",
   "execution_count": 142,
   "metadata": {},
   "outputs": [
    {
     "data": {
      "text/plain": [
       "0    1.0\n",
       "1    1.0\n",
       "2    1.0\n",
       "3    1.0\n",
       "Name: A, dtype: float64"
      ]
     },
     "execution_count": 142,
     "metadata": {},
     "output_type": "execute_result"
    }
   ],
   "source": [
    "df1.A"
   ]
  },
  {
   "cell_type": "code",
   "execution_count": 143,
   "metadata": {},
   "outputs": [
    {
     "data": {
      "text/plain": [
       "<bound method NDFrame.abs of      A          B  C  D      E\n",
       "0  1.0 2013-01-02  1  3  train\n",
       "1  1.0 2013-01-02  1  3   test\n",
       "2  1.0 2013-01-02  1  3  train\n",
       "3  1.0 2013-01-02  1  3   test>"
      ]
     },
     "execution_count": 143,
     "metadata": {},
     "output_type": "execute_result"
    }
   ],
   "source": [
    "df1.abs"
   ]
  },
  {
   "cell_type": "code",
   "execution_count": 144,
   "metadata": {},
   "outputs": [
    {
     "data": {
      "text/plain": [
       "<bound method _arith_method_FRAME.<locals>.f of      A          B  C  D      E\n",
       "0  1.0 2013-01-02  1  3  train\n",
       "1  1.0 2013-01-02  1  3   test\n",
       "2  1.0 2013-01-02  1  3  train\n",
       "3  1.0 2013-01-02  1  3   test>"
      ]
     },
     "execution_count": 144,
     "metadata": {},
     "output_type": "execute_result"
    }
   ],
   "source": [
    "df1.add"
   ]
  },
  {
   "cell_type": "code",
   "execution_count": 145,
   "metadata": {},
   "outputs": [
    {
     "data": {
      "text/plain": [
       "<bound method NDFrame.bool of      A          B  C  D      E\n",
       "0  1.0 2013-01-02  1  3  train\n",
       "1  1.0 2013-01-02  1  3   test\n",
       "2  1.0 2013-01-02  1  3  train\n",
       "3  1.0 2013-01-02  1  3   test>"
      ]
     },
     "execution_count": 145,
     "metadata": {},
     "output_type": "execute_result"
    }
   ],
   "source": [
    "df1.bool"
   ]
  },
  {
   "cell_type": "code",
   "execution_count": 146,
   "metadata": {},
   "outputs": [
    {
     "data": {
      "text/plain": [
       "<bound method boxplot_frame of      A          B  C  D      E\n",
       "0  1.0 2013-01-02  1  3  train\n",
       "1  1.0 2013-01-02  1  3   test\n",
       "2  1.0 2013-01-02  1  3  train\n",
       "3  1.0 2013-01-02  1  3   test>"
      ]
     },
     "execution_count": 146,
     "metadata": {},
     "output_type": "execute_result"
    }
   ],
   "source": [
    "df1.boxplot"
   ]
  },
  {
   "cell_type": "code",
   "execution_count": 147,
   "metadata": {},
   "outputs": [
    {
     "data": {
      "text/plain": [
       "0    1\n",
       "1    1\n",
       "2    1\n",
       "3    1\n",
       "Name: C, dtype: int64"
      ]
     },
     "execution_count": 147,
     "metadata": {},
     "output_type": "execute_result"
    }
   ],
   "source": [
    "df1.C"
   ]
  },
  {
   "cell_type": "code",
   "execution_count": 148,
   "metadata": {},
   "outputs": [
    {
     "data": {
      "text/html": [
       "<div>\n",
       "<style scoped>\n",
       "    .dataframe tbody tr th:only-of-type {\n",
       "        vertical-align: middle;\n",
       "    }\n",
       "\n",
       "    .dataframe tbody tr th {\n",
       "        vertical-align: top;\n",
       "    }\n",
       "\n",
       "    .dataframe thead th {\n",
       "        text-align: right;\n",
       "    }\n",
       "</style>\n",
       "<table border=\"1\" class=\"dataframe\">\n",
       "  <thead>\n",
       "    <tr style=\"text-align: right;\">\n",
       "      <th></th>\n",
       "      <th>A</th>\n",
       "      <th>B</th>\n",
       "      <th>C</th>\n",
       "      <th>D</th>\n",
       "      <th>E</th>\n",
       "      <th>F</th>\n",
       "    </tr>\n",
       "  </thead>\n",
       "  <tbody>\n",
       "    <tr>\n",
       "      <td>2020-01-01</td>\n",
       "      <td>0.207325</td>\n",
       "      <td>-0.496797</td>\n",
       "      <td>0.106358</td>\n",
       "      <td>0.882424</td>\n",
       "      <td>0.753371</td>\n",
       "      <td>-1.186406</td>\n",
       "    </tr>\n",
       "    <tr>\n",
       "      <td>2020-01-02</td>\n",
       "      <td>0.585826</td>\n",
       "      <td>1.589052</td>\n",
       "      <td>-0.611083</td>\n",
       "      <td>-0.676850</td>\n",
       "      <td>0.468258</td>\n",
       "      <td>-0.719164</td>\n",
       "    </tr>\n",
       "    <tr>\n",
       "      <td>2020-01-03</td>\n",
       "      <td>-1.479526</td>\n",
       "      <td>-0.813674</td>\n",
       "      <td>0.580145</td>\n",
       "      <td>1.110416</td>\n",
       "      <td>1.712101</td>\n",
       "      <td>-0.874593</td>\n",
       "    </tr>\n",
       "    <tr>\n",
       "      <td>2020-01-04</td>\n",
       "      <td>1.328692</td>\n",
       "      <td>0.240333</td>\n",
       "      <td>1.124939</td>\n",
       "      <td>0.369621</td>\n",
       "      <td>-0.099422</td>\n",
       "      <td>1.118252</td>\n",
       "    </tr>\n",
       "    <tr>\n",
       "      <td>2020-01-05</td>\n",
       "      <td>0.332356</td>\n",
       "      <td>-0.517262</td>\n",
       "      <td>0.227473</td>\n",
       "      <td>-0.686535</td>\n",
       "      <td>-0.199573</td>\n",
       "      <td>0.126164</td>\n",
       "    </tr>\n",
       "  </tbody>\n",
       "</table>\n",
       "</div>"
      ],
      "text/plain": [
       "                   A         B         C         D         E         F\n",
       "2020-01-01  0.207325 -0.496797  0.106358  0.882424  0.753371 -1.186406\n",
       "2020-01-02  0.585826  1.589052 -0.611083 -0.676850  0.468258 -0.719164\n",
       "2020-01-03 -1.479526 -0.813674  0.580145  1.110416  1.712101 -0.874593\n",
       "2020-01-04  1.328692  0.240333  1.124939  0.369621 -0.099422  1.118252\n",
       "2020-01-05  0.332356 -0.517262  0.227473 -0.686535 -0.199573  0.126164"
      ]
     },
     "execution_count": 148,
     "metadata": {},
     "output_type": "execute_result"
    }
   ],
   "source": [
    "dd.head()#viewing top rows of the dataframe"
   ]
  },
  {
   "cell_type": "code",
   "execution_count": 149,
   "metadata": {},
   "outputs": [
    {
     "data": {
      "text/html": [
       "<div>\n",
       "<style scoped>\n",
       "    .dataframe tbody tr th:only-of-type {\n",
       "        vertical-align: middle;\n",
       "    }\n",
       "\n",
       "    .dataframe tbody tr th {\n",
       "        vertical-align: top;\n",
       "    }\n",
       "\n",
       "    .dataframe thead th {\n",
       "        text-align: right;\n",
       "    }\n",
       "</style>\n",
       "<table border=\"1\" class=\"dataframe\">\n",
       "  <thead>\n",
       "    <tr style=\"text-align: right;\">\n",
       "      <th></th>\n",
       "      <th>A</th>\n",
       "      <th>B</th>\n",
       "      <th>C</th>\n",
       "      <th>D</th>\n",
       "      <th>E</th>\n",
       "      <th>F</th>\n",
       "    </tr>\n",
       "  </thead>\n",
       "  <tbody>\n",
       "    <tr>\n",
       "      <td>2020-01-04</td>\n",
       "      <td>1.328692</td>\n",
       "      <td>0.240333</td>\n",
       "      <td>1.124939</td>\n",
       "      <td>0.369621</td>\n",
       "      <td>-0.099422</td>\n",
       "      <td>1.118252</td>\n",
       "    </tr>\n",
       "    <tr>\n",
       "      <td>2020-01-05</td>\n",
       "      <td>0.332356</td>\n",
       "      <td>-0.517262</td>\n",
       "      <td>0.227473</td>\n",
       "      <td>-0.686535</td>\n",
       "      <td>-0.199573</td>\n",
       "      <td>0.126164</td>\n",
       "    </tr>\n",
       "    <tr>\n",
       "      <td>2020-01-06</td>\n",
       "      <td>-0.864971</td>\n",
       "      <td>0.478215</td>\n",
       "      <td>0.108557</td>\n",
       "      <td>0.519524</td>\n",
       "      <td>0.237151</td>\n",
       "      <td>1.319588</td>\n",
       "    </tr>\n",
       "  </tbody>\n",
       "</table>\n",
       "</div>"
      ],
      "text/plain": [
       "                   A         B         C         D         E         F\n",
       "2020-01-04  1.328692  0.240333  1.124939  0.369621 -0.099422  1.118252\n",
       "2020-01-05  0.332356 -0.517262  0.227473 -0.686535 -0.199573  0.126164\n",
       "2020-01-06 -0.864971  0.478215  0.108557  0.519524  0.237151  1.319588"
      ]
     },
     "execution_count": 149,
     "metadata": {},
     "output_type": "execute_result"
    }
   ],
   "source": [
    "dd.tail(3)#viewing bottom rows of the dataframe"
   ]
  },
  {
   "cell_type": "code",
   "execution_count": 150,
   "metadata": {},
   "outputs": [
    {
     "data": {
      "text/plain": [
       "DatetimeIndex(['2020-01-01', '2020-01-02', '2020-01-03', '2020-01-04',\n",
       "               '2020-01-05', '2020-01-06'],\n",
       "              dtype='datetime64[ns]', freq='D')"
      ]
     },
     "execution_count": 150,
     "metadata": {},
     "output_type": "execute_result"
    }
   ],
   "source": [
    "dd.index#viewing data at index"
   ]
  },
  {
   "cell_type": "code",
   "execution_count": 151,
   "metadata": {},
   "outputs": [
    {
     "data": {
      "text/plain": [
       "Index(['A', 'B', 'C', 'D', 'E', 'F'], dtype='object')"
      ]
     },
     "execution_count": 151,
     "metadata": {},
     "output_type": "execute_result"
    }
   ],
   "source": [
    "dd.columns"
   ]
  },
  {
   "cell_type": "code",
   "execution_count": 152,
   "metadata": {},
   "outputs": [
    {
     "data": {
      "text/plain": [
       "array([[1.0, Timestamp('2013-01-02 00:00:00'), 1, 3, 'train'],\n",
       "       [1.0, Timestamp('2013-01-02 00:00:00'), 1, 3, 'test'],\n",
       "       [1.0, Timestamp('2013-01-02 00:00:00'), 1, 3, 'train'],\n",
       "       [1.0, Timestamp('2013-01-02 00:00:00'), 1, 3, 'test']],\n",
       "      dtype=object)"
      ]
     },
     "execution_count": 152,
     "metadata": {},
     "output_type": "execute_result"
    }
   ],
   "source": [
    "df1.to_numpy()#creating dataframe to numpy"
   ]
  },
  {
   "cell_type": "code",
   "execution_count": 153,
   "metadata": {},
   "outputs": [
    {
     "data": {
      "text/plain": [
       "array([[ 0.20732517, -0.49679662,  0.10635779,  0.88242378,  0.75337133,\n",
       "        -1.18640615],\n",
       "       [ 0.58582574,  1.58905166, -0.61108265, -0.67685005,  0.46825783,\n",
       "        -0.71916413],\n",
       "       [-1.47952585, -0.81367356,  0.58014546,  1.11041571,  1.71210074,\n",
       "        -0.87459283],\n",
       "       [ 1.32869215,  0.24033284,  1.12493866,  0.36962055, -0.09942176,\n",
       "         1.11825151],\n",
       "       [ 0.33235586, -0.51726238,  0.22747288, -0.68653457, -0.19957336,\n",
       "         0.12616374],\n",
       "       [-0.86497079,  0.47821508,  0.1085567 ,  0.5195243 ,  0.23715095,\n",
       "         1.31958751]])"
      ]
     },
     "execution_count": 153,
     "metadata": {},
     "output_type": "execute_result"
    }
   ],
   "source": [
    "dd.to_numpy()#creating dataframe to numpy"
   ]
  },
  {
   "cell_type": "code",
   "execution_count": 154,
   "metadata": {},
   "outputs": [
    {
     "data": {
      "text/html": [
       "<div>\n",
       "<style scoped>\n",
       "    .dataframe tbody tr th:only-of-type {\n",
       "        vertical-align: middle;\n",
       "    }\n",
       "\n",
       "    .dataframe tbody tr th {\n",
       "        vertical-align: top;\n",
       "    }\n",
       "\n",
       "    .dataframe thead th {\n",
       "        text-align: right;\n",
       "    }\n",
       "</style>\n",
       "<table border=\"1\" class=\"dataframe\">\n",
       "  <thead>\n",
       "    <tr style=\"text-align: right;\">\n",
       "      <th></th>\n",
       "      <th>A</th>\n",
       "      <th>B</th>\n",
       "      <th>C</th>\n",
       "      <th>D</th>\n",
       "      <th>E</th>\n",
       "      <th>F</th>\n",
       "    </tr>\n",
       "  </thead>\n",
       "  <tbody>\n",
       "    <tr>\n",
       "      <td>count</td>\n",
       "      <td>6.000000</td>\n",
       "      <td>6.000000</td>\n",
       "      <td>6.000000</td>\n",
       "      <td>6.000000</td>\n",
       "      <td>6.000000</td>\n",
       "      <td>6.000000</td>\n",
       "    </tr>\n",
       "    <tr>\n",
       "      <td>mean</td>\n",
       "      <td>0.018284</td>\n",
       "      <td>0.079978</td>\n",
       "      <td>0.256065</td>\n",
       "      <td>0.253100</td>\n",
       "      <td>0.478648</td>\n",
       "      <td>-0.036027</td>\n",
       "    </tr>\n",
       "    <tr>\n",
       "      <td>std</td>\n",
       "      <td>1.019532</td>\n",
       "      <td>0.888773</td>\n",
       "      <td>0.575657</td>\n",
       "      <td>0.769846</td>\n",
       "      <td>0.699922</td>\n",
       "      <td>1.066733</td>\n",
       "    </tr>\n",
       "    <tr>\n",
       "      <td>min</td>\n",
       "      <td>-1.479526</td>\n",
       "      <td>-0.813674</td>\n",
       "      <td>-0.611083</td>\n",
       "      <td>-0.686535</td>\n",
       "      <td>-0.199573</td>\n",
       "      <td>-1.186406</td>\n",
       "    </tr>\n",
       "    <tr>\n",
       "      <td>25%</td>\n",
       "      <td>-0.596897</td>\n",
       "      <td>-0.512146</td>\n",
       "      <td>0.106908</td>\n",
       "      <td>-0.415232</td>\n",
       "      <td>-0.015279</td>\n",
       "      <td>-0.835736</td>\n",
       "    </tr>\n",
       "    <tr>\n",
       "      <td>50%</td>\n",
       "      <td>0.269841</td>\n",
       "      <td>-0.128232</td>\n",
       "      <td>0.168015</td>\n",
       "      <td>0.444572</td>\n",
       "      <td>0.352704</td>\n",
       "      <td>-0.296500</td>\n",
       "    </tr>\n",
       "    <tr>\n",
       "      <td>75%</td>\n",
       "      <td>0.522458</td>\n",
       "      <td>0.418745</td>\n",
       "      <td>0.491977</td>\n",
       "      <td>0.791699</td>\n",
       "      <td>0.682093</td>\n",
       "      <td>0.870230</td>\n",
       "    </tr>\n",
       "    <tr>\n",
       "      <td>max</td>\n",
       "      <td>1.328692</td>\n",
       "      <td>1.589052</td>\n",
       "      <td>1.124939</td>\n",
       "      <td>1.110416</td>\n",
       "      <td>1.712101</td>\n",
       "      <td>1.319588</td>\n",
       "    </tr>\n",
       "  </tbody>\n",
       "</table>\n",
       "</div>"
      ],
      "text/plain": [
       "              A         B         C         D         E         F\n",
       "count  6.000000  6.000000  6.000000  6.000000  6.000000  6.000000\n",
       "mean   0.018284  0.079978  0.256065  0.253100  0.478648 -0.036027\n",
       "std    1.019532  0.888773  0.575657  0.769846  0.699922  1.066733\n",
       "min   -1.479526 -0.813674 -0.611083 -0.686535 -0.199573 -1.186406\n",
       "25%   -0.596897 -0.512146  0.106908 -0.415232 -0.015279 -0.835736\n",
       "50%    0.269841 -0.128232  0.168015  0.444572  0.352704 -0.296500\n",
       "75%    0.522458  0.418745  0.491977  0.791699  0.682093  0.870230\n",
       "max    1.328692  1.589052  1.124939  1.110416  1.712101  1.319588"
      ]
     },
     "execution_count": 154,
     "metadata": {},
     "output_type": "execute_result"
    }
   ],
   "source": [
    "dd.describe()#showing a quick statistics summary of the data"
   ]
  },
  {
   "cell_type": "code",
   "execution_count": 155,
   "metadata": {},
   "outputs": [
    {
     "data": {
      "text/plain": [
       "A    0.018284\n",
       "B    0.079978\n",
       "C    0.256065\n",
       "D    0.253100\n",
       "E    0.478648\n",
       "F   -0.036027\n",
       "dtype: float64"
      ]
     },
     "execution_count": 155,
     "metadata": {},
     "output_type": "execute_result"
    }
   ],
   "source": [
    "dd.mean()#showing the mean of the data"
   ]
  },
  {
   "cell_type": "code",
   "execution_count": 156,
   "metadata": {},
   "outputs": [
    {
     "data": {
      "text/html": [
       "<div>\n",
       "<style scoped>\n",
       "    .dataframe tbody tr th:only-of-type {\n",
       "        vertical-align: middle;\n",
       "    }\n",
       "\n",
       "    .dataframe tbody tr th {\n",
       "        vertical-align: top;\n",
       "    }\n",
       "\n",
       "    .dataframe thead th {\n",
       "        text-align: right;\n",
       "    }\n",
       "</style>\n",
       "<table border=\"1\" class=\"dataframe\">\n",
       "  <thead>\n",
       "    <tr style=\"text-align: right;\">\n",
       "      <th></th>\n",
       "      <th>2020-01-01</th>\n",
       "      <th>2020-01-02</th>\n",
       "      <th>2020-01-03</th>\n",
       "      <th>2020-01-04</th>\n",
       "      <th>2020-01-05</th>\n",
       "      <th>2020-01-06</th>\n",
       "    </tr>\n",
       "  </thead>\n",
       "  <tbody>\n",
       "    <tr>\n",
       "      <td>A</td>\n",
       "      <td>0.207325</td>\n",
       "      <td>0.585826</td>\n",
       "      <td>-1.479526</td>\n",
       "      <td>1.328692</td>\n",
       "      <td>0.332356</td>\n",
       "      <td>-0.864971</td>\n",
       "    </tr>\n",
       "    <tr>\n",
       "      <td>B</td>\n",
       "      <td>-0.496797</td>\n",
       "      <td>1.589052</td>\n",
       "      <td>-0.813674</td>\n",
       "      <td>0.240333</td>\n",
       "      <td>-0.517262</td>\n",
       "      <td>0.478215</td>\n",
       "    </tr>\n",
       "    <tr>\n",
       "      <td>C</td>\n",
       "      <td>0.106358</td>\n",
       "      <td>-0.611083</td>\n",
       "      <td>0.580145</td>\n",
       "      <td>1.124939</td>\n",
       "      <td>0.227473</td>\n",
       "      <td>0.108557</td>\n",
       "    </tr>\n",
       "    <tr>\n",
       "      <td>D</td>\n",
       "      <td>0.882424</td>\n",
       "      <td>-0.676850</td>\n",
       "      <td>1.110416</td>\n",
       "      <td>0.369621</td>\n",
       "      <td>-0.686535</td>\n",
       "      <td>0.519524</td>\n",
       "    </tr>\n",
       "    <tr>\n",
       "      <td>E</td>\n",
       "      <td>0.753371</td>\n",
       "      <td>0.468258</td>\n",
       "      <td>1.712101</td>\n",
       "      <td>-0.099422</td>\n",
       "      <td>-0.199573</td>\n",
       "      <td>0.237151</td>\n",
       "    </tr>\n",
       "    <tr>\n",
       "      <td>F</td>\n",
       "      <td>-1.186406</td>\n",
       "      <td>-0.719164</td>\n",
       "      <td>-0.874593</td>\n",
       "      <td>1.118252</td>\n",
       "      <td>0.126164</td>\n",
       "      <td>1.319588</td>\n",
       "    </tr>\n",
       "  </tbody>\n",
       "</table>\n",
       "</div>"
      ],
      "text/plain": [
       "   2020-01-01  2020-01-02  2020-01-03  2020-01-04  2020-01-05  2020-01-06\n",
       "A    0.207325    0.585826   -1.479526    1.328692    0.332356   -0.864971\n",
       "B   -0.496797    1.589052   -0.813674    0.240333   -0.517262    0.478215\n",
       "C    0.106358   -0.611083    0.580145    1.124939    0.227473    0.108557\n",
       "D    0.882424   -0.676850    1.110416    0.369621   -0.686535    0.519524\n",
       "E    0.753371    0.468258    1.712101   -0.099422   -0.199573    0.237151\n",
       "F   -1.186406   -0.719164   -0.874593    1.118252    0.126164    1.319588"
      ]
     },
     "execution_count": 156,
     "metadata": {},
     "output_type": "execute_result"
    }
   ],
   "source": [
    "dd.T#transposing the data"
   ]
  },
  {
   "cell_type": "code",
   "execution_count": 157,
   "metadata": {},
   "outputs": [
    {
     "data": {
      "text/html": [
       "<div>\n",
       "<style scoped>\n",
       "    .dataframe tbody tr th:only-of-type {\n",
       "        vertical-align: middle;\n",
       "    }\n",
       "\n",
       "    .dataframe tbody tr th {\n",
       "        vertical-align: top;\n",
       "    }\n",
       "\n",
       "    .dataframe thead th {\n",
       "        text-align: right;\n",
       "    }\n",
       "</style>\n",
       "<table border=\"1\" class=\"dataframe\">\n",
       "  <thead>\n",
       "    <tr style=\"text-align: right;\">\n",
       "      <th></th>\n",
       "      <th>2020-01-01</th>\n",
       "      <th>2020-01-02</th>\n",
       "      <th>2020-01-03</th>\n",
       "      <th>2020-01-04</th>\n",
       "      <th>2020-01-05</th>\n",
       "      <th>2020-01-06</th>\n",
       "    </tr>\n",
       "  </thead>\n",
       "  <tbody>\n",
       "    <tr>\n",
       "      <td>joy</td>\n",
       "      <td>NaN</td>\n",
       "      <td>NaN</td>\n",
       "      <td>NaN</td>\n",
       "      <td>NaN</td>\n",
       "      <td>NaN</td>\n",
       "      <td>NaN</td>\n",
       "    </tr>\n",
       "    <tr>\n",
       "      <td>bola</td>\n",
       "      <td>NaN</td>\n",
       "      <td>NaN</td>\n",
       "      <td>NaN</td>\n",
       "      <td>NaN</td>\n",
       "      <td>NaN</td>\n",
       "      <td>NaN</td>\n",
       "    </tr>\n",
       "    <tr>\n",
       "      <td>lara</td>\n",
       "      <td>NaN</td>\n",
       "      <td>NaN</td>\n",
       "      <td>NaN</td>\n",
       "      <td>NaN</td>\n",
       "      <td>NaN</td>\n",
       "      <td>NaN</td>\n",
       "    </tr>\n",
       "    <tr>\n",
       "      <td>femi</td>\n",
       "      <td>NaN</td>\n",
       "      <td>NaN</td>\n",
       "      <td>NaN</td>\n",
       "      <td>NaN</td>\n",
       "      <td>NaN</td>\n",
       "      <td>NaN</td>\n",
       "    </tr>\n",
       "    <tr>\n",
       "      <td>ayo</td>\n",
       "      <td>NaN</td>\n",
       "      <td>NaN</td>\n",
       "      <td>NaN</td>\n",
       "      <td>NaN</td>\n",
       "      <td>NaN</td>\n",
       "      <td>NaN</td>\n",
       "    </tr>\n",
       "    <tr>\n",
       "      <td>joke</td>\n",
       "      <td>NaN</td>\n",
       "      <td>NaN</td>\n",
       "      <td>NaN</td>\n",
       "      <td>NaN</td>\n",
       "      <td>NaN</td>\n",
       "      <td>NaN</td>\n",
       "    </tr>\n",
       "  </tbody>\n",
       "</table>\n",
       "</div>"
      ],
      "text/plain": [
       "      2020-01-01  2020-01-02  2020-01-03  2020-01-04  2020-01-05  2020-01-06\n",
       "joy          NaN         NaN         NaN         NaN         NaN         NaN\n",
       "bola         NaN         NaN         NaN         NaN         NaN         NaN\n",
       "lara         NaN         NaN         NaN         NaN         NaN         NaN\n",
       "femi         NaN         NaN         NaN         NaN         NaN         NaN\n",
       "ayo          NaN         NaN         NaN         NaN         NaN         NaN\n",
       "joke         NaN         NaN         NaN         NaN         NaN         NaN"
      ]
     },
     "execution_count": 157,
     "metadata": {},
     "output_type": "execute_result"
    }
   ],
   "source": [
    "df2=pd.DataFrame(dd.T,index=(['joy','bola','lara','femi','ayo','joke']))#creating the indexes into names\n",
    "df2"
   ]
  },
  {
   "cell_type": "code",
   "execution_count": 158,
   "metadata": {},
   "outputs": [
    {
     "data": {
      "text/html": [
       "<div>\n",
       "<style scoped>\n",
       "    .dataframe tbody tr th:only-of-type {\n",
       "        vertical-align: middle;\n",
       "    }\n",
       "\n",
       "    .dataframe tbody tr th {\n",
       "        vertical-align: top;\n",
       "    }\n",
       "\n",
       "    .dataframe thead th {\n",
       "        text-align: right;\n",
       "    }\n",
       "</style>\n",
       "<table border=\"1\" class=\"dataframe\">\n",
       "  <thead>\n",
       "    <tr style=\"text-align: right;\">\n",
       "      <th></th>\n",
       "      <th>F</th>\n",
       "      <th>E</th>\n",
       "      <th>D</th>\n",
       "      <th>C</th>\n",
       "      <th>B</th>\n",
       "      <th>A</th>\n",
       "    </tr>\n",
       "  </thead>\n",
       "  <tbody>\n",
       "    <tr>\n",
       "      <td>2020-01-01</td>\n",
       "      <td>-1.186406</td>\n",
       "      <td>0.753371</td>\n",
       "      <td>0.882424</td>\n",
       "      <td>0.106358</td>\n",
       "      <td>-0.496797</td>\n",
       "      <td>0.207325</td>\n",
       "    </tr>\n",
       "    <tr>\n",
       "      <td>2020-01-02</td>\n",
       "      <td>-0.719164</td>\n",
       "      <td>0.468258</td>\n",
       "      <td>-0.676850</td>\n",
       "      <td>-0.611083</td>\n",
       "      <td>1.589052</td>\n",
       "      <td>0.585826</td>\n",
       "    </tr>\n",
       "    <tr>\n",
       "      <td>2020-01-03</td>\n",
       "      <td>-0.874593</td>\n",
       "      <td>1.712101</td>\n",
       "      <td>1.110416</td>\n",
       "      <td>0.580145</td>\n",
       "      <td>-0.813674</td>\n",
       "      <td>-1.479526</td>\n",
       "    </tr>\n",
       "    <tr>\n",
       "      <td>2020-01-04</td>\n",
       "      <td>1.118252</td>\n",
       "      <td>-0.099422</td>\n",
       "      <td>0.369621</td>\n",
       "      <td>1.124939</td>\n",
       "      <td>0.240333</td>\n",
       "      <td>1.328692</td>\n",
       "    </tr>\n",
       "    <tr>\n",
       "      <td>2020-01-05</td>\n",
       "      <td>0.126164</td>\n",
       "      <td>-0.199573</td>\n",
       "      <td>-0.686535</td>\n",
       "      <td>0.227473</td>\n",
       "      <td>-0.517262</td>\n",
       "      <td>0.332356</td>\n",
       "    </tr>\n",
       "    <tr>\n",
       "      <td>2020-01-06</td>\n",
       "      <td>1.319588</td>\n",
       "      <td>0.237151</td>\n",
       "      <td>0.519524</td>\n",
       "      <td>0.108557</td>\n",
       "      <td>0.478215</td>\n",
       "      <td>-0.864971</td>\n",
       "    </tr>\n",
       "  </tbody>\n",
       "</table>\n",
       "</div>"
      ],
      "text/plain": [
       "                   F         E         D         C         B         A\n",
       "2020-01-01 -1.186406  0.753371  0.882424  0.106358 -0.496797  0.207325\n",
       "2020-01-02 -0.719164  0.468258 -0.676850 -0.611083  1.589052  0.585826\n",
       "2020-01-03 -0.874593  1.712101  1.110416  0.580145 -0.813674 -1.479526\n",
       "2020-01-04  1.118252 -0.099422  0.369621  1.124939  0.240333  1.328692\n",
       "2020-01-05  0.126164 -0.199573 -0.686535  0.227473 -0.517262  0.332356\n",
       "2020-01-06  1.319588  0.237151  0.519524  0.108557  0.478215 -0.864971"
      ]
     },
     "execution_count": 158,
     "metadata": {},
     "output_type": "execute_result"
    }
   ],
   "source": [
    "dd.sort_index(axis=1, ascending=False)#sorting by an axis"
   ]
  },
  {
   "cell_type": "code",
   "execution_count": 159,
   "metadata": {},
   "outputs": [
    {
     "data": {
      "text/html": [
       "<div>\n",
       "<style scoped>\n",
       "    .dataframe tbody tr th:only-of-type {\n",
       "        vertical-align: middle;\n",
       "    }\n",
       "\n",
       "    .dataframe tbody tr th {\n",
       "        vertical-align: top;\n",
       "    }\n",
       "\n",
       "    .dataframe thead th {\n",
       "        text-align: right;\n",
       "    }\n",
       "</style>\n",
       "<table border=\"1\" class=\"dataframe\">\n",
       "  <thead>\n",
       "    <tr style=\"text-align: right;\">\n",
       "      <th></th>\n",
       "      <th>A</th>\n",
       "      <th>B</th>\n",
       "      <th>C</th>\n",
       "      <th>D</th>\n",
       "      <th>E</th>\n",
       "      <th>F</th>\n",
       "    </tr>\n",
       "  </thead>\n",
       "  <tbody>\n",
       "    <tr>\n",
       "      <td>2020-01-02</td>\n",
       "      <td>0.585826</td>\n",
       "      <td>1.589052</td>\n",
       "      <td>-0.611083</td>\n",
       "      <td>-0.676850</td>\n",
       "      <td>0.468258</td>\n",
       "      <td>-0.719164</td>\n",
       "    </tr>\n",
       "    <tr>\n",
       "      <td>2020-01-01</td>\n",
       "      <td>0.207325</td>\n",
       "      <td>-0.496797</td>\n",
       "      <td>0.106358</td>\n",
       "      <td>0.882424</td>\n",
       "      <td>0.753371</td>\n",
       "      <td>-1.186406</td>\n",
       "    </tr>\n",
       "    <tr>\n",
       "      <td>2020-01-06</td>\n",
       "      <td>-0.864971</td>\n",
       "      <td>0.478215</td>\n",
       "      <td>0.108557</td>\n",
       "      <td>0.519524</td>\n",
       "      <td>0.237151</td>\n",
       "      <td>1.319588</td>\n",
       "    </tr>\n",
       "    <tr>\n",
       "      <td>2020-01-05</td>\n",
       "      <td>0.332356</td>\n",
       "      <td>-0.517262</td>\n",
       "      <td>0.227473</td>\n",
       "      <td>-0.686535</td>\n",
       "      <td>-0.199573</td>\n",
       "      <td>0.126164</td>\n",
       "    </tr>\n",
       "    <tr>\n",
       "      <td>2020-01-03</td>\n",
       "      <td>-1.479526</td>\n",
       "      <td>-0.813674</td>\n",
       "      <td>0.580145</td>\n",
       "      <td>1.110416</td>\n",
       "      <td>1.712101</td>\n",
       "      <td>-0.874593</td>\n",
       "    </tr>\n",
       "    <tr>\n",
       "      <td>2020-01-04</td>\n",
       "      <td>1.328692</td>\n",
       "      <td>0.240333</td>\n",
       "      <td>1.124939</td>\n",
       "      <td>0.369621</td>\n",
       "      <td>-0.099422</td>\n",
       "      <td>1.118252</td>\n",
       "    </tr>\n",
       "  </tbody>\n",
       "</table>\n",
       "</div>"
      ],
      "text/plain": [
       "                   A         B         C         D         E         F\n",
       "2020-01-02  0.585826  1.589052 -0.611083 -0.676850  0.468258 -0.719164\n",
       "2020-01-01  0.207325 -0.496797  0.106358  0.882424  0.753371 -1.186406\n",
       "2020-01-06 -0.864971  0.478215  0.108557  0.519524  0.237151  1.319588\n",
       "2020-01-05  0.332356 -0.517262  0.227473 -0.686535 -0.199573  0.126164\n",
       "2020-01-03 -1.479526 -0.813674  0.580145  1.110416  1.712101 -0.874593\n",
       "2020-01-04  1.328692  0.240333  1.124939  0.369621 -0.099422  1.118252"
      ]
     },
     "execution_count": 159,
     "metadata": {},
     "output_type": "execute_result"
    }
   ],
   "source": [
    "dd.sort_values (by ='C')#sorting by an value"
   ]
  },
  {
   "cell_type": "code",
   "execution_count": 160,
   "metadata": {},
   "outputs": [
    {
     "data": {
      "text/plain": [
       "2020-01-01    0.207325\n",
       "2020-01-02    0.585826\n",
       "2020-01-03   -1.479526\n",
       "2020-01-04    1.328692\n",
       "2020-01-05    0.332356\n",
       "2020-01-06   -0.864971\n",
       "Freq: D, Name: A, dtype: float64"
      ]
     },
     "execution_count": 160,
     "metadata": {},
     "output_type": "execute_result"
    }
   ],
   "source": [
    "dd['A']#selecting a single column"
   ]
  },
  {
   "cell_type": "code",
   "execution_count": 161,
   "metadata": {},
   "outputs": [
    {
     "data": {
      "text/html": [
       "<div>\n",
       "<style scoped>\n",
       "    .dataframe tbody tr th:only-of-type {\n",
       "        vertical-align: middle;\n",
       "    }\n",
       "\n",
       "    .dataframe tbody tr th {\n",
       "        vertical-align: top;\n",
       "    }\n",
       "\n",
       "    .dataframe thead th {\n",
       "        text-align: right;\n",
       "    }\n",
       "</style>\n",
       "<table border=\"1\" class=\"dataframe\">\n",
       "  <thead>\n",
       "    <tr style=\"text-align: right;\">\n",
       "      <th></th>\n",
       "      <th>A</th>\n",
       "      <th>B</th>\n",
       "      <th>C</th>\n",
       "      <th>D</th>\n",
       "      <th>E</th>\n",
       "      <th>F</th>\n",
       "    </tr>\n",
       "  </thead>\n",
       "  <tbody>\n",
       "    <tr>\n",
       "      <td>2020-01-01</td>\n",
       "      <td>0.207325</td>\n",
       "      <td>-0.496797</td>\n",
       "      <td>0.106358</td>\n",
       "      <td>0.882424</td>\n",
       "      <td>0.753371</td>\n",
       "      <td>-1.186406</td>\n",
       "    </tr>\n",
       "    <tr>\n",
       "      <td>2020-01-02</td>\n",
       "      <td>0.585826</td>\n",
       "      <td>1.589052</td>\n",
       "      <td>-0.611083</td>\n",
       "      <td>-0.676850</td>\n",
       "      <td>0.468258</td>\n",
       "      <td>-0.719164</td>\n",
       "    </tr>\n",
       "    <tr>\n",
       "      <td>2020-01-03</td>\n",
       "      <td>-1.479526</td>\n",
       "      <td>-0.813674</td>\n",
       "      <td>0.580145</td>\n",
       "      <td>1.110416</td>\n",
       "      <td>1.712101</td>\n",
       "      <td>-0.874593</td>\n",
       "    </tr>\n",
       "    <tr>\n",
       "      <td>2020-01-04</td>\n",
       "      <td>1.328692</td>\n",
       "      <td>0.240333</td>\n",
       "      <td>1.124939</td>\n",
       "      <td>0.369621</td>\n",
       "      <td>-0.099422</td>\n",
       "      <td>1.118252</td>\n",
       "    </tr>\n",
       "  </tbody>\n",
       "</table>\n",
       "</div>"
      ],
      "text/plain": [
       "                   A         B         C         D         E         F\n",
       "2020-01-01  0.207325 -0.496797  0.106358  0.882424  0.753371 -1.186406\n",
       "2020-01-02  0.585826  1.589052 -0.611083 -0.676850  0.468258 -0.719164\n",
       "2020-01-03 -1.479526 -0.813674  0.580145  1.110416  1.712101 -0.874593\n",
       "2020-01-04  1.328692  0.240333  1.124939  0.369621 -0.099422  1.118252"
      ]
     },
     "execution_count": 161,
     "metadata": {},
     "output_type": "execute_result"
    }
   ],
   "source": [
    "dd[0:4]#slicing the rows"
   ]
  },
  {
   "cell_type": "code",
   "execution_count": 162,
   "metadata": {},
   "outputs": [
    {
     "data": {
      "text/html": [
       "<div>\n",
       "<style scoped>\n",
       "    .dataframe tbody tr th:only-of-type {\n",
       "        vertical-align: middle;\n",
       "    }\n",
       "\n",
       "    .dataframe tbody tr th {\n",
       "        vertical-align: top;\n",
       "    }\n",
       "\n",
       "    .dataframe thead th {\n",
       "        text-align: right;\n",
       "    }\n",
       "</style>\n",
       "<table border=\"1\" class=\"dataframe\">\n",
       "  <thead>\n",
       "    <tr style=\"text-align: right;\">\n",
       "      <th></th>\n",
       "      <th>A</th>\n",
       "      <th>B</th>\n",
       "      <th>C</th>\n",
       "      <th>D</th>\n",
       "      <th>E</th>\n",
       "      <th>F</th>\n",
       "    </tr>\n",
       "  </thead>\n",
       "  <tbody>\n",
       "    <tr>\n",
       "      <td>2020-01-01</td>\n",
       "      <td>0.207325</td>\n",
       "      <td>-0.496797</td>\n",
       "      <td>0.106358</td>\n",
       "      <td>0.882424</td>\n",
       "      <td>0.753371</td>\n",
       "      <td>-1.186406</td>\n",
       "    </tr>\n",
       "    <tr>\n",
       "      <td>2020-01-02</td>\n",
       "      <td>0.585826</td>\n",
       "      <td>1.589052</td>\n",
       "      <td>-0.611083</td>\n",
       "      <td>-0.676850</td>\n",
       "      <td>0.468258</td>\n",
       "      <td>-0.719164</td>\n",
       "    </tr>\n",
       "    <tr>\n",
       "      <td>2020-01-03</td>\n",
       "      <td>-1.479526</td>\n",
       "      <td>-0.813674</td>\n",
       "      <td>0.580145</td>\n",
       "      <td>1.110416</td>\n",
       "      <td>1.712101</td>\n",
       "      <td>-0.874593</td>\n",
       "    </tr>\n",
       "    <tr>\n",
       "      <td>2020-01-04</td>\n",
       "      <td>1.328692</td>\n",
       "      <td>0.240333</td>\n",
       "      <td>1.124939</td>\n",
       "      <td>0.369621</td>\n",
       "      <td>-0.099422</td>\n",
       "      <td>1.118252</td>\n",
       "    </tr>\n",
       "    <tr>\n",
       "      <td>2020-01-05</td>\n",
       "      <td>0.332356</td>\n",
       "      <td>-0.517262</td>\n",
       "      <td>0.227473</td>\n",
       "      <td>-0.686535</td>\n",
       "      <td>-0.199573</td>\n",
       "      <td>0.126164</td>\n",
       "    </tr>\n",
       "  </tbody>\n",
       "</table>\n",
       "</div>"
      ],
      "text/plain": [
       "                   A         B         C         D         E         F\n",
       "2020-01-01  0.207325 -0.496797  0.106358  0.882424  0.753371 -1.186406\n",
       "2020-01-02  0.585826  1.589052 -0.611083 -0.676850  0.468258 -0.719164\n",
       "2020-01-03 -1.479526 -0.813674  0.580145  1.110416  1.712101 -0.874593\n",
       "2020-01-04  1.328692  0.240333  1.124939  0.369621 -0.099422  1.118252\n",
       "2020-01-05  0.332356 -0.517262  0.227473 -0.686535 -0.199573  0.126164"
      ]
     },
     "execution_count": 162,
     "metadata": {},
     "output_type": "execute_result"
    }
   ],
   "source": [
    "dd['20200101':'20200105']#slicing using indexes"
   ]
  },
  {
   "cell_type": "code",
   "execution_count": 163,
   "metadata": {},
   "outputs": [
    {
     "data": {
      "text/html": [
       "<div>\n",
       "<style scoped>\n",
       "    .dataframe tbody tr th:only-of-type {\n",
       "        vertical-align: middle;\n",
       "    }\n",
       "\n",
       "    .dataframe tbody tr th {\n",
       "        vertical-align: top;\n",
       "    }\n",
       "\n",
       "    .dataframe thead th {\n",
       "        text-align: right;\n",
       "    }\n",
       "</style>\n",
       "<table border=\"1\" class=\"dataframe\">\n",
       "  <thead>\n",
       "    <tr style=\"text-align: right;\">\n",
       "      <th></th>\n",
       "      <th>A</th>\n",
       "      <th>B</th>\n",
       "    </tr>\n",
       "  </thead>\n",
       "  <tbody>\n",
       "    <tr>\n",
       "      <td>2020-01-01</td>\n",
       "      <td>0.207325</td>\n",
       "      <td>-0.496797</td>\n",
       "    </tr>\n",
       "    <tr>\n",
       "      <td>2020-01-02</td>\n",
       "      <td>0.585826</td>\n",
       "      <td>1.589052</td>\n",
       "    </tr>\n",
       "    <tr>\n",
       "      <td>2020-01-03</td>\n",
       "      <td>-1.479526</td>\n",
       "      <td>-0.813674</td>\n",
       "    </tr>\n",
       "    <tr>\n",
       "      <td>2020-01-04</td>\n",
       "      <td>1.328692</td>\n",
       "      <td>0.240333</td>\n",
       "    </tr>\n",
       "    <tr>\n",
       "      <td>2020-01-05</td>\n",
       "      <td>0.332356</td>\n",
       "      <td>-0.517262</td>\n",
       "    </tr>\n",
       "  </tbody>\n",
       "</table>\n",
       "</div>"
      ],
      "text/plain": [
       "                   A         B\n",
       "2020-01-01  0.207325 -0.496797\n",
       "2020-01-02  0.585826  1.589052\n",
       "2020-01-03 -1.479526 -0.813674\n",
       "2020-01-04  1.328692  0.240333\n",
       "2020-01-05  0.332356 -0.517262"
      ]
     },
     "execution_count": 163,
     "metadata": {},
     "output_type": "execute_result"
    }
   ],
   "source": [
    "dd.loc['20200101':'20200105',['A','B']]#selecting on a multi_axis by label"
   ]
  },
  {
   "cell_type": "code",
   "execution_count": 164,
   "metadata": {},
   "outputs": [
    {
     "data": {
      "text/html": [
       "<div>\n",
       "<style scoped>\n",
       "    .dataframe tbody tr th:only-of-type {\n",
       "        vertical-align: middle;\n",
       "    }\n",
       "\n",
       "    .dataframe tbody tr th {\n",
       "        vertical-align: top;\n",
       "    }\n",
       "\n",
       "    .dataframe thead th {\n",
       "        text-align: right;\n",
       "    }\n",
       "</style>\n",
       "<table border=\"1\" class=\"dataframe\">\n",
       "  <thead>\n",
       "    <tr style=\"text-align: right;\">\n",
       "      <th></th>\n",
       "      <th>A</th>\n",
       "      <th>B</th>\n",
       "      <th>C</th>\n",
       "      <th>D</th>\n",
       "      <th>E</th>\n",
       "      <th>F</th>\n",
       "    </tr>\n",
       "  </thead>\n",
       "  <tbody>\n",
       "    <tr>\n",
       "      <td>2020-01-01</td>\n",
       "      <td>0.207325</td>\n",
       "      <td>-0.496797</td>\n",
       "      <td>0.106358</td>\n",
       "      <td>0.882424</td>\n",
       "      <td>0.753371</td>\n",
       "      <td>-1.186406</td>\n",
       "    </tr>\n",
       "    <tr>\n",
       "      <td>2020-01-02</td>\n",
       "      <td>0.585826</td>\n",
       "      <td>1.589052</td>\n",
       "      <td>-0.611083</td>\n",
       "      <td>-0.676850</td>\n",
       "      <td>0.468258</td>\n",
       "      <td>-0.719164</td>\n",
       "    </tr>\n",
       "    <tr>\n",
       "      <td>2020-01-03</td>\n",
       "      <td>-1.479526</td>\n",
       "      <td>-0.813674</td>\n",
       "      <td>0.580145</td>\n",
       "      <td>1.110416</td>\n",
       "      <td>1.712101</td>\n",
       "      <td>-0.874593</td>\n",
       "    </tr>\n",
       "    <tr>\n",
       "      <td>2020-01-04</td>\n",
       "      <td>1.328692</td>\n",
       "      <td>0.240333</td>\n",
       "      <td>1.124939</td>\n",
       "      <td>0.369621</td>\n",
       "      <td>-0.099422</td>\n",
       "      <td>1.118252</td>\n",
       "    </tr>\n",
       "  </tbody>\n",
       "</table>\n",
       "</div>"
      ],
      "text/plain": [
       "                   A         B         C         D         E         F\n",
       "2020-01-01  0.207325 -0.496797  0.106358  0.882424  0.753371 -1.186406\n",
       "2020-01-02  0.585826  1.589052 -0.611083 -0.676850  0.468258 -0.719164\n",
       "2020-01-03 -1.479526 -0.813674  0.580145  1.110416  1.712101 -0.874593\n",
       "2020-01-04  1.328692  0.240333  1.124939  0.369621 -0.099422  1.118252"
      ]
     },
     "execution_count": 164,
     "metadata": {},
     "output_type": "execute_result"
    }
   ],
   "source": [
    "dd.loc[Dates[0:4]]#selecting on a multi_axis by label"
   ]
  },
  {
   "cell_type": "code",
   "execution_count": 165,
   "metadata": {},
   "outputs": [
    {
     "data": {
      "text/html": [
       "<div>\n",
       "<style scoped>\n",
       "    .dataframe tbody tr th:only-of-type {\n",
       "        vertical-align: middle;\n",
       "    }\n",
       "\n",
       "    .dataframe tbody tr th {\n",
       "        vertical-align: top;\n",
       "    }\n",
       "\n",
       "    .dataframe thead th {\n",
       "        text-align: right;\n",
       "    }\n",
       "</style>\n",
       "<table border=\"1\" class=\"dataframe\">\n",
       "  <thead>\n",
       "    <tr style=\"text-align: right;\">\n",
       "      <th></th>\n",
       "      <th>A</th>\n",
       "      <th>B</th>\n",
       "      <th>C</th>\n",
       "      <th>D</th>\n",
       "      <th>E</th>\n",
       "      <th>F</th>\n",
       "    </tr>\n",
       "  </thead>\n",
       "  <tbody>\n",
       "    <tr>\n",
       "      <td>2020-01-01</td>\n",
       "      <td>0.207325</td>\n",
       "      <td>-0.496797</td>\n",
       "      <td>0.106358</td>\n",
       "      <td>0.882424</td>\n",
       "      <td>0.753371</td>\n",
       "      <td>-1.186406</td>\n",
       "    </tr>\n",
       "    <tr>\n",
       "      <td>2020-01-02</td>\n",
       "      <td>0.585826</td>\n",
       "      <td>1.589052</td>\n",
       "      <td>-0.611083</td>\n",
       "      <td>-0.676850</td>\n",
       "      <td>0.468258</td>\n",
       "      <td>-0.719164</td>\n",
       "    </tr>\n",
       "    <tr>\n",
       "      <td>2020-01-03</td>\n",
       "      <td>-1.479526</td>\n",
       "      <td>-0.813674</td>\n",
       "      <td>0.580145</td>\n",
       "      <td>1.110416</td>\n",
       "      <td>1.712101</td>\n",
       "      <td>-0.874593</td>\n",
       "    </tr>\n",
       "    <tr>\n",
       "      <td>2020-01-04</td>\n",
       "      <td>1.328692</td>\n",
       "      <td>0.240333</td>\n",
       "      <td>1.124939</td>\n",
       "      <td>0.369621</td>\n",
       "      <td>-0.099422</td>\n",
       "      <td>1.118252</td>\n",
       "    </tr>\n",
       "    <tr>\n",
       "      <td>2020-01-05</td>\n",
       "      <td>0.332356</td>\n",
       "      <td>-0.517262</td>\n",
       "      <td>0.227473</td>\n",
       "      <td>-0.686535</td>\n",
       "      <td>-0.199573</td>\n",
       "      <td>0.126164</td>\n",
       "    </tr>\n",
       "    <tr>\n",
       "      <td>2020-01-06</td>\n",
       "      <td>-0.864971</td>\n",
       "      <td>0.478215</td>\n",
       "      <td>0.108557</td>\n",
       "      <td>0.519524</td>\n",
       "      <td>0.237151</td>\n",
       "      <td>1.319588</td>\n",
       "    </tr>\n",
       "  </tbody>\n",
       "</table>\n",
       "</div>"
      ],
      "text/plain": [
       "                   A         B         C         D         E         F\n",
       "2020-01-01  0.207325 -0.496797  0.106358  0.882424  0.753371 -1.186406\n",
       "2020-01-02  0.585826  1.589052 -0.611083 -0.676850  0.468258 -0.719164\n",
       "2020-01-03 -1.479526 -0.813674  0.580145  1.110416  1.712101 -0.874593\n",
       "2020-01-04  1.328692  0.240333  1.124939  0.369621 -0.099422  1.118252\n",
       "2020-01-05  0.332356 -0.517262  0.227473 -0.686535 -0.199573  0.126164\n",
       "2020-01-06 -0.864971  0.478215  0.108557  0.519524  0.237151  1.319588"
      ]
     },
     "execution_count": 165,
     "metadata": {},
     "output_type": "execute_result"
    }
   ],
   "source": [
    "dd.loc[Dates[0:]]#selecting all rows"
   ]
  },
  {
   "cell_type": "code",
   "execution_count": 166,
   "metadata": {},
   "outputs": [
    {
     "data": {
      "text/html": [
       "<div>\n",
       "<style scoped>\n",
       "    .dataframe tbody tr th:only-of-type {\n",
       "        vertical-align: middle;\n",
       "    }\n",
       "\n",
       "    .dataframe tbody tr th {\n",
       "        vertical-align: top;\n",
       "    }\n",
       "\n",
       "    .dataframe thead th {\n",
       "        text-align: right;\n",
       "    }\n",
       "</style>\n",
       "<table border=\"1\" class=\"dataframe\">\n",
       "  <thead>\n",
       "    <tr style=\"text-align: right;\">\n",
       "      <th></th>\n",
       "      <th>A</th>\n",
       "      <th>B</th>\n",
       "      <th>C</th>\n",
       "    </tr>\n",
       "  </thead>\n",
       "  <tbody>\n",
       "    <tr>\n",
       "      <td>2020-01-02</td>\n",
       "      <td>0.585826</td>\n",
       "      <td>1.589052</td>\n",
       "      <td>-0.611083</td>\n",
       "    </tr>\n",
       "    <tr>\n",
       "      <td>2020-01-03</td>\n",
       "      <td>-1.479526</td>\n",
       "      <td>-0.813674</td>\n",
       "      <td>0.580145</td>\n",
       "    </tr>\n",
       "    <tr>\n",
       "      <td>2020-01-04</td>\n",
       "      <td>1.328692</td>\n",
       "      <td>0.240333</td>\n",
       "      <td>1.124939</td>\n",
       "    </tr>\n",
       "    <tr>\n",
       "      <td>2020-01-05</td>\n",
       "      <td>0.332356</td>\n",
       "      <td>-0.517262</td>\n",
       "      <td>0.227473</td>\n",
       "    </tr>\n",
       "    <tr>\n",
       "      <td>2020-01-06</td>\n",
       "      <td>-0.864971</td>\n",
       "      <td>0.478215</td>\n",
       "      <td>0.108557</td>\n",
       "    </tr>\n",
       "  </tbody>\n",
       "</table>\n",
       "</div>"
      ],
      "text/plain": [
       "                   A         B         C\n",
       "2020-01-02  0.585826  1.589052 -0.611083\n",
       "2020-01-03 -1.479526 -0.813674  0.580145\n",
       "2020-01-04  1.328692  0.240333  1.124939\n",
       "2020-01-05  0.332356 -0.517262  0.227473\n",
       "2020-01-06 -0.864971  0.478215  0.108557"
      ]
     },
     "execution_count": 166,
     "metadata": {},
     "output_type": "execute_result"
    }
   ],
   "source": [
    "dd.loc['20200102':'20200106',['A','B','C']]#showing label slicing,both endpoint are included"
   ]
  },
  {
   "cell_type": "code",
   "execution_count": 167,
   "metadata": {},
   "outputs": [
    {
     "data": {
      "text/plain": [
       "2020-01-01   -0.496797\n",
       "2020-01-02    1.589052\n",
       "2020-01-03   -0.813674\n",
       "2020-01-04    0.240333\n",
       "2020-01-05   -0.517262\n",
       "Freq: D, Name: B, dtype: float64"
      ]
     },
     "execution_count": 167,
     "metadata": {},
     "output_type": "execute_result"
    }
   ],
   "source": [
    "dd.loc['20200101':'20200105','B']#slicing both axis and label"
   ]
  },
  {
   "cell_type": "code",
   "execution_count": 168,
   "metadata": {},
   "outputs": [
    {
     "data": {
      "text/plain": [
       "A    0.207325\n",
       "B   -0.496797\n",
       "C    0.106358\n",
       "D    0.882424\n",
       "E    0.753371\n",
       "F   -1.186406\n",
       "Name: 2020-01-01 00:00:00, dtype: float64"
      ]
     },
     "execution_count": 168,
     "metadata": {},
     "output_type": "execute_result"
    }
   ],
   "source": [
    "dd.loc[Dates[0]]#getting a cross selection using label"
   ]
  },
  {
   "cell_type": "code",
   "execution_count": 169,
   "metadata": {},
   "outputs": [
    {
     "data": {
      "text/plain": [
       "0.2073251672790865"
      ]
     },
     "execution_count": 169,
     "metadata": {},
     "output_type": "execute_result"
    }
   ],
   "source": [
    "dd.at[Dates[0],'A']"
   ]
  },
  {
   "cell_type": "code",
   "execution_count": 170,
   "metadata": {},
   "outputs": [
    {
     "data": {
      "text/plain": [
       "A    1.328692\n",
       "B    0.240333\n",
       "C    1.124939\n",
       "D    0.369621\n",
       "E   -0.099422\n",
       "F    1.118252\n",
       "Name: 2020-01-04 00:00:00, dtype: float64"
      ]
     },
     "execution_count": 170,
     "metadata": {},
     "output_type": "execute_result"
    }
   ],
   "source": [
    "dd.iloc[3]#selection by position"
   ]
  },
  {
   "cell_type": "code",
   "execution_count": 171,
   "metadata": {},
   "outputs": [
    {
     "data": {
      "text/html": [
       "<div>\n",
       "<style scoped>\n",
       "    .dataframe tbody tr th:only-of-type {\n",
       "        vertical-align: middle;\n",
       "    }\n",
       "\n",
       "    .dataframe tbody tr th {\n",
       "        vertical-align: top;\n",
       "    }\n",
       "\n",
       "    .dataframe thead th {\n",
       "        text-align: right;\n",
       "    }\n",
       "</style>\n",
       "<table border=\"1\" class=\"dataframe\">\n",
       "  <thead>\n",
       "    <tr style=\"text-align: right;\">\n",
       "      <th></th>\n",
       "      <th>A</th>\n",
       "      <th>B</th>\n",
       "      <th>C</th>\n",
       "      <th>D</th>\n",
       "      <th>E</th>\n",
       "      <th>F</th>\n",
       "    </tr>\n",
       "  </thead>\n",
       "  <tbody>\n",
       "    <tr>\n",
       "      <td>2020-01-01</td>\n",
       "      <td>0.207325</td>\n",
       "      <td>-0.496797</td>\n",
       "      <td>0.106358</td>\n",
       "      <td>0.882424</td>\n",
       "      <td>0.753371</td>\n",
       "      <td>-1.186406</td>\n",
       "    </tr>\n",
       "    <tr>\n",
       "      <td>2020-01-02</td>\n",
       "      <td>0.585826</td>\n",
       "      <td>1.589052</td>\n",
       "      <td>-0.611083</td>\n",
       "      <td>-0.676850</td>\n",
       "      <td>0.468258</td>\n",
       "      <td>-0.719164</td>\n",
       "    </tr>\n",
       "    <tr>\n",
       "      <td>2020-01-03</td>\n",
       "      <td>-1.479526</td>\n",
       "      <td>-0.813674</td>\n",
       "      <td>0.580145</td>\n",
       "      <td>1.110416</td>\n",
       "      <td>1.712101</td>\n",
       "      <td>-0.874593</td>\n",
       "    </tr>\n",
       "    <tr>\n",
       "      <td>2020-01-04</td>\n",
       "      <td>1.328692</td>\n",
       "      <td>0.240333</td>\n",
       "      <td>1.124939</td>\n",
       "      <td>0.369621</td>\n",
       "      <td>-0.099422</td>\n",
       "      <td>1.118252</td>\n",
       "    </tr>\n",
       "    <tr>\n",
       "      <td>2020-01-05</td>\n",
       "      <td>0.332356</td>\n",
       "      <td>-0.517262</td>\n",
       "      <td>0.227473</td>\n",
       "      <td>-0.686535</td>\n",
       "      <td>-0.199573</td>\n",
       "      <td>0.126164</td>\n",
       "    </tr>\n",
       "    <tr>\n",
       "      <td>2020-01-06</td>\n",
       "      <td>-0.864971</td>\n",
       "      <td>0.478215</td>\n",
       "      <td>0.108557</td>\n",
       "      <td>0.519524</td>\n",
       "      <td>0.237151</td>\n",
       "      <td>1.319588</td>\n",
       "    </tr>\n",
       "  </tbody>\n",
       "</table>\n",
       "</div>"
      ],
      "text/plain": [
       "                   A         B         C         D         E         F\n",
       "2020-01-01  0.207325 -0.496797  0.106358  0.882424  0.753371 -1.186406\n",
       "2020-01-02  0.585826  1.589052 -0.611083 -0.676850  0.468258 -0.719164\n",
       "2020-01-03 -1.479526 -0.813674  0.580145  1.110416  1.712101 -0.874593\n",
       "2020-01-04  1.328692  0.240333  1.124939  0.369621 -0.099422  1.118252\n",
       "2020-01-05  0.332356 -0.517262  0.227473 -0.686535 -0.199573  0.126164\n",
       "2020-01-06 -0.864971  0.478215  0.108557  0.519524  0.237151  1.319588"
      ]
     },
     "execution_count": 171,
     "metadata": {},
     "output_type": "execute_result"
    }
   ],
   "source": [
    "dd.iloc[:,:]#slicing rows explicitly"
   ]
  },
  {
   "cell_type": "code",
   "execution_count": 172,
   "metadata": {},
   "outputs": [
    {
     "data": {
      "text/html": [
       "<div>\n",
       "<style scoped>\n",
       "    .dataframe tbody tr th:only-of-type {\n",
       "        vertical-align: middle;\n",
       "    }\n",
       "\n",
       "    .dataframe tbody tr th {\n",
       "        vertical-align: top;\n",
       "    }\n",
       "\n",
       "    .dataframe thead th {\n",
       "        text-align: right;\n",
       "    }\n",
       "</style>\n",
       "<table border=\"1\" class=\"dataframe\">\n",
       "  <thead>\n",
       "    <tr style=\"text-align: right;\">\n",
       "      <th></th>\n",
       "      <th>A</th>\n",
       "      <th>B</th>\n",
       "      <th>C</th>\n",
       "      <th>D</th>\n",
       "      <th>E</th>\n",
       "      <th>F</th>\n",
       "    </tr>\n",
       "  </thead>\n",
       "  <tbody>\n",
       "    <tr>\n",
       "      <td>2020-01-01</td>\n",
       "      <td>0.207325</td>\n",
       "      <td>-0.496797</td>\n",
       "      <td>0.106358</td>\n",
       "      <td>0.882424</td>\n",
       "      <td>0.753371</td>\n",
       "      <td>-1.186406</td>\n",
       "    </tr>\n",
       "    <tr>\n",
       "      <td>2020-01-02</td>\n",
       "      <td>0.585826</td>\n",
       "      <td>1.589052</td>\n",
       "      <td>-0.611083</td>\n",
       "      <td>-0.676850</td>\n",
       "      <td>0.468258</td>\n",
       "      <td>-0.719164</td>\n",
       "    </tr>\n",
       "    <tr>\n",
       "      <td>2020-01-04</td>\n",
       "      <td>1.328692</td>\n",
       "      <td>0.240333</td>\n",
       "      <td>1.124939</td>\n",
       "      <td>0.369621</td>\n",
       "      <td>-0.099422</td>\n",
       "      <td>1.118252</td>\n",
       "    </tr>\n",
       "    <tr>\n",
       "      <td>2020-01-05</td>\n",
       "      <td>0.332356</td>\n",
       "      <td>-0.517262</td>\n",
       "      <td>0.227473</td>\n",
       "      <td>-0.686535</td>\n",
       "      <td>-0.199573</td>\n",
       "      <td>0.126164</td>\n",
       "    </tr>\n",
       "  </tbody>\n",
       "</table>\n",
       "</div>"
      ],
      "text/plain": [
       "                   A         B         C         D         E         F\n",
       "2020-01-01  0.207325 -0.496797  0.106358  0.882424  0.753371 -1.186406\n",
       "2020-01-02  0.585826  1.589052 -0.611083 -0.676850  0.468258 -0.719164\n",
       "2020-01-04  1.328692  0.240333  1.124939  0.369621 -0.099422  1.118252\n",
       "2020-01-05  0.332356 -0.517262  0.227473 -0.686535 -0.199573  0.126164"
      ]
     },
     "execution_count": 172,
     "metadata": {},
     "output_type": "execute_result"
    }
   ],
   "source": [
    "dd[dd.A>0]#boolean indexing"
   ]
  },
  {
   "cell_type": "code",
   "execution_count": 173,
   "metadata": {},
   "outputs": [
    {
     "data": {
      "text/html": [
       "<div>\n",
       "<style scoped>\n",
       "    .dataframe tbody tr th:only-of-type {\n",
       "        vertical-align: middle;\n",
       "    }\n",
       "\n",
       "    .dataframe tbody tr th {\n",
       "        vertical-align: top;\n",
       "    }\n",
       "\n",
       "    .dataframe thead th {\n",
       "        text-align: right;\n",
       "    }\n",
       "</style>\n",
       "<table border=\"1\" class=\"dataframe\">\n",
       "  <thead>\n",
       "    <tr style=\"text-align: right;\">\n",
       "      <th></th>\n",
       "      <th>A</th>\n",
       "      <th>B</th>\n",
       "      <th>C</th>\n",
       "      <th>D</th>\n",
       "      <th>E</th>\n",
       "      <th>F</th>\n",
       "    </tr>\n",
       "  </thead>\n",
       "  <tbody>\n",
       "    <tr>\n",
       "      <td>2020-01-01</td>\n",
       "      <td>0.207325</td>\n",
       "      <td>NaN</td>\n",
       "      <td>0.106358</td>\n",
       "      <td>0.882424</td>\n",
       "      <td>0.753371</td>\n",
       "      <td>NaN</td>\n",
       "    </tr>\n",
       "    <tr>\n",
       "      <td>2020-01-02</td>\n",
       "      <td>0.585826</td>\n",
       "      <td>1.589052</td>\n",
       "      <td>NaN</td>\n",
       "      <td>NaN</td>\n",
       "      <td>0.468258</td>\n",
       "      <td>NaN</td>\n",
       "    </tr>\n",
       "    <tr>\n",
       "      <td>2020-01-03</td>\n",
       "      <td>NaN</td>\n",
       "      <td>NaN</td>\n",
       "      <td>0.580145</td>\n",
       "      <td>1.110416</td>\n",
       "      <td>1.712101</td>\n",
       "      <td>NaN</td>\n",
       "    </tr>\n",
       "    <tr>\n",
       "      <td>2020-01-04</td>\n",
       "      <td>1.328692</td>\n",
       "      <td>0.240333</td>\n",
       "      <td>1.124939</td>\n",
       "      <td>0.369621</td>\n",
       "      <td>NaN</td>\n",
       "      <td>1.118252</td>\n",
       "    </tr>\n",
       "    <tr>\n",
       "      <td>2020-01-05</td>\n",
       "      <td>0.332356</td>\n",
       "      <td>NaN</td>\n",
       "      <td>0.227473</td>\n",
       "      <td>NaN</td>\n",
       "      <td>NaN</td>\n",
       "      <td>0.126164</td>\n",
       "    </tr>\n",
       "    <tr>\n",
       "      <td>2020-01-06</td>\n",
       "      <td>NaN</td>\n",
       "      <td>0.478215</td>\n",
       "      <td>0.108557</td>\n",
       "      <td>0.519524</td>\n",
       "      <td>0.237151</td>\n",
       "      <td>1.319588</td>\n",
       "    </tr>\n",
       "  </tbody>\n",
       "</table>\n",
       "</div>"
      ],
      "text/plain": [
       "                   A         B         C         D         E         F\n",
       "2020-01-01  0.207325       NaN  0.106358  0.882424  0.753371       NaN\n",
       "2020-01-02  0.585826  1.589052       NaN       NaN  0.468258       NaN\n",
       "2020-01-03       NaN       NaN  0.580145  1.110416  1.712101       NaN\n",
       "2020-01-04  1.328692  0.240333  1.124939  0.369621       NaN  1.118252\n",
       "2020-01-05  0.332356       NaN  0.227473       NaN       NaN  0.126164\n",
       "2020-01-06       NaN  0.478215  0.108557  0.519524  0.237151  1.319588"
      ]
     },
     "execution_count": 173,
     "metadata": {},
     "output_type": "execute_result"
    }
   ],
   "source": [
    "mdd=dd[dd>0]#indicating data in the dataframe>0\n",
    "mdd"
   ]
  },
  {
   "cell_type": "code",
   "execution_count": 174,
   "metadata": {},
   "outputs": [
    {
     "data": {
      "text/html": [
       "<div>\n",
       "<style scoped>\n",
       "    .dataframe tbody tr th:only-of-type {\n",
       "        vertical-align: middle;\n",
       "    }\n",
       "\n",
       "    .dataframe tbody tr th {\n",
       "        vertical-align: top;\n",
       "    }\n",
       "\n",
       "    .dataframe thead th {\n",
       "        text-align: right;\n",
       "    }\n",
       "</style>\n",
       "<table border=\"1\" class=\"dataframe\">\n",
       "  <thead>\n",
       "    <tr style=\"text-align: right;\">\n",
       "      <th></th>\n",
       "      <th>A</th>\n",
       "      <th>B</th>\n",
       "      <th>C</th>\n",
       "      <th>D</th>\n",
       "      <th>E</th>\n",
       "      <th>F</th>\n",
       "    </tr>\n",
       "  </thead>\n",
       "  <tbody>\n",
       "  </tbody>\n",
       "</table>\n",
       "</div>"
      ],
      "text/plain": [
       "Empty DataFrame\n",
       "Columns: [A, B, C, D, E, F]\n",
       "Index: []"
      ]
     },
     "execution_count": 174,
     "metadata": {},
     "output_type": "execute_result"
    }
   ],
   "source": [
    "mdd.dropna(how='any')#dropping rows with missing values"
   ]
  },
  {
   "cell_type": "code",
   "execution_count": 177,
   "metadata": {},
   "outputs": [
    {
     "data": {
      "text/html": [
       "<div>\n",
       "<style scoped>\n",
       "    .dataframe tbody tr th:only-of-type {\n",
       "        vertical-align: middle;\n",
       "    }\n",
       "\n",
       "    .dataframe tbody tr th {\n",
       "        vertical-align: top;\n",
       "    }\n",
       "\n",
       "    .dataframe thead th {\n",
       "        text-align: right;\n",
       "    }\n",
       "</style>\n",
       "<table border=\"1\" class=\"dataframe\">\n",
       "  <thead>\n",
       "    <tr style=\"text-align: right;\">\n",
       "      <th></th>\n",
       "      <th>A</th>\n",
       "      <th>B</th>\n",
       "      <th>C</th>\n",
       "      <th>D</th>\n",
       "      <th>E</th>\n",
       "      <th>F</th>\n",
       "    </tr>\n",
       "  </thead>\n",
       "  <tbody>\n",
       "    <tr>\n",
       "      <td>2020-01-01</td>\n",
       "      <td>0.207325</td>\n",
       "      <td>5.000000</td>\n",
       "      <td>0.106358</td>\n",
       "      <td>0.882424</td>\n",
       "      <td>0.753371</td>\n",
       "      <td>5.000000</td>\n",
       "    </tr>\n",
       "    <tr>\n",
       "      <td>2020-01-02</td>\n",
       "      <td>0.585826</td>\n",
       "      <td>1.589052</td>\n",
       "      <td>5.000000</td>\n",
       "      <td>5.000000</td>\n",
       "      <td>0.468258</td>\n",
       "      <td>5.000000</td>\n",
       "    </tr>\n",
       "    <tr>\n",
       "      <td>2020-01-03</td>\n",
       "      <td>5.000000</td>\n",
       "      <td>5.000000</td>\n",
       "      <td>0.580145</td>\n",
       "      <td>1.110416</td>\n",
       "      <td>1.712101</td>\n",
       "      <td>5.000000</td>\n",
       "    </tr>\n",
       "    <tr>\n",
       "      <td>2020-01-04</td>\n",
       "      <td>1.328692</td>\n",
       "      <td>0.240333</td>\n",
       "      <td>1.124939</td>\n",
       "      <td>0.369621</td>\n",
       "      <td>5.000000</td>\n",
       "      <td>1.118252</td>\n",
       "    </tr>\n",
       "    <tr>\n",
       "      <td>2020-01-05</td>\n",
       "      <td>0.332356</td>\n",
       "      <td>5.000000</td>\n",
       "      <td>0.227473</td>\n",
       "      <td>5.000000</td>\n",
       "      <td>5.000000</td>\n",
       "      <td>0.126164</td>\n",
       "    </tr>\n",
       "    <tr>\n",
       "      <td>2020-01-06</td>\n",
       "      <td>5.000000</td>\n",
       "      <td>0.478215</td>\n",
       "      <td>0.108557</td>\n",
       "      <td>0.519524</td>\n",
       "      <td>0.237151</td>\n",
       "      <td>1.319588</td>\n",
       "    </tr>\n",
       "  </tbody>\n",
       "</table>\n",
       "</div>"
      ],
      "text/plain": [
       "                   A         B         C         D         E         F\n",
       "2020-01-01  0.207325  5.000000  0.106358  0.882424  0.753371  5.000000\n",
       "2020-01-02  0.585826  1.589052  5.000000  5.000000  0.468258  5.000000\n",
       "2020-01-03  5.000000  5.000000  0.580145  1.110416  1.712101  5.000000\n",
       "2020-01-04  1.328692  0.240333  1.124939  0.369621  5.000000  1.118252\n",
       "2020-01-05  0.332356  5.000000  0.227473  5.000000  5.000000  0.126164\n",
       "2020-01-06  5.000000  0.478215  0.108557  0.519524  0.237151  1.319588"
      ]
     },
     "execution_count": 177,
     "metadata": {},
     "output_type": "execute_result"
    }
   ],
   "source": [
    "mdd.fillna(5)#filling the missing values with 5"
   ]
  },
  {
   "cell_type": "code",
   "execution_count": 178,
   "metadata": {},
   "outputs": [
    {
     "data": {
      "text/html": [
       "<div>\n",
       "<style scoped>\n",
       "    .dataframe tbody tr th:only-of-type {\n",
       "        vertical-align: middle;\n",
       "    }\n",
       "\n",
       "    .dataframe tbody tr th {\n",
       "        vertical-align: top;\n",
       "    }\n",
       "\n",
       "    .dataframe thead th {\n",
       "        text-align: right;\n",
       "    }\n",
       "</style>\n",
       "<table border=\"1\" class=\"dataframe\">\n",
       "  <thead>\n",
       "    <tr style=\"text-align: right;\">\n",
       "      <th></th>\n",
       "      <th>A</th>\n",
       "      <th>B</th>\n",
       "      <th>C</th>\n",
       "      <th>D</th>\n",
       "      <th>E</th>\n",
       "      <th>F</th>\n",
       "    </tr>\n",
       "  </thead>\n",
       "  <tbody>\n",
       "    <tr>\n",
       "      <td>2020-01-01</td>\n",
       "      <td>False</td>\n",
       "      <td>True</td>\n",
       "      <td>False</td>\n",
       "      <td>False</td>\n",
       "      <td>False</td>\n",
       "      <td>True</td>\n",
       "    </tr>\n",
       "    <tr>\n",
       "      <td>2020-01-02</td>\n",
       "      <td>False</td>\n",
       "      <td>False</td>\n",
       "      <td>True</td>\n",
       "      <td>True</td>\n",
       "      <td>False</td>\n",
       "      <td>True</td>\n",
       "    </tr>\n",
       "    <tr>\n",
       "      <td>2020-01-03</td>\n",
       "      <td>True</td>\n",
       "      <td>True</td>\n",
       "      <td>False</td>\n",
       "      <td>False</td>\n",
       "      <td>False</td>\n",
       "      <td>True</td>\n",
       "    </tr>\n",
       "    <tr>\n",
       "      <td>2020-01-04</td>\n",
       "      <td>False</td>\n",
       "      <td>False</td>\n",
       "      <td>False</td>\n",
       "      <td>False</td>\n",
       "      <td>True</td>\n",
       "      <td>False</td>\n",
       "    </tr>\n",
       "    <tr>\n",
       "      <td>2020-01-05</td>\n",
       "      <td>False</td>\n",
       "      <td>True</td>\n",
       "      <td>False</td>\n",
       "      <td>True</td>\n",
       "      <td>True</td>\n",
       "      <td>False</td>\n",
       "    </tr>\n",
       "    <tr>\n",
       "      <td>2020-01-06</td>\n",
       "      <td>True</td>\n",
       "      <td>False</td>\n",
       "      <td>False</td>\n",
       "      <td>False</td>\n",
       "      <td>False</td>\n",
       "      <td>False</td>\n",
       "    </tr>\n",
       "  </tbody>\n",
       "</table>\n",
       "</div>"
      ],
      "text/plain": [
       "                A      B      C      D      E      F\n",
       "2020-01-01  False   True  False  False  False   True\n",
       "2020-01-02  False  False   True   True  False   True\n",
       "2020-01-03   True   True  False  False  False   True\n",
       "2020-01-04  False  False  False  False   True  False\n",
       "2020-01-05  False   True  False   True   True  False\n",
       "2020-01-06   True  False  False  False  False  False"
      ]
     },
     "execution_count": 178,
     "metadata": {},
     "output_type": "execute_result"
    }
   ],
   "source": [
    "pd.isna(mdd)#to  get the boolean mask where values are nan"
   ]
  },
  {
   "cell_type": "code",
   "execution_count": 175,
   "metadata": {},
   "outputs": [],
   "source": [
    "dd3=dd.copy()"
   ]
  },
  {
   "cell_type": "code",
   "execution_count": 176,
   "metadata": {},
   "outputs": [
    {
     "data": {
      "text/html": [
       "<div>\n",
       "<style scoped>\n",
       "    .dataframe tbody tr th:only-of-type {\n",
       "        vertical-align: middle;\n",
       "    }\n",
       "\n",
       "    .dataframe tbody tr th {\n",
       "        vertical-align: top;\n",
       "    }\n",
       "\n",
       "    .dataframe thead th {\n",
       "        text-align: right;\n",
       "    }\n",
       "</style>\n",
       "<table border=\"1\" class=\"dataframe\">\n",
       "  <thead>\n",
       "    <tr style=\"text-align: right;\">\n",
       "      <th></th>\n",
       "      <th>A</th>\n",
       "      <th>B</th>\n",
       "      <th>C</th>\n",
       "      <th>D</th>\n",
       "      <th>E</th>\n",
       "      <th>F</th>\n",
       "      <th>G</th>\n",
       "    </tr>\n",
       "  </thead>\n",
       "  <tbody>\n",
       "    <tr>\n",
       "      <td>2020-01-01</td>\n",
       "      <td>0.207325</td>\n",
       "      <td>-0.496797</td>\n",
       "      <td>0.106358</td>\n",
       "      <td>0.882424</td>\n",
       "      <td>0.753371</td>\n",
       "      <td>-1.186406</td>\n",
       "      <td>10</td>\n",
       "    </tr>\n",
       "    <tr>\n",
       "      <td>2020-01-02</td>\n",
       "      <td>0.585826</td>\n",
       "      <td>1.589052</td>\n",
       "      <td>-0.611083</td>\n",
       "      <td>-0.676850</td>\n",
       "      <td>0.468258</td>\n",
       "      <td>-0.719164</td>\n",
       "      <td>20</td>\n",
       "    </tr>\n",
       "    <tr>\n",
       "      <td>2020-01-03</td>\n",
       "      <td>-1.479526</td>\n",
       "      <td>-0.813674</td>\n",
       "      <td>0.580145</td>\n",
       "      <td>1.110416</td>\n",
       "      <td>1.712101</td>\n",
       "      <td>-0.874593</td>\n",
       "      <td>30</td>\n",
       "    </tr>\n",
       "    <tr>\n",
       "      <td>2020-01-04</td>\n",
       "      <td>1.328692</td>\n",
       "      <td>0.240333</td>\n",
       "      <td>1.124939</td>\n",
       "      <td>0.369621</td>\n",
       "      <td>-0.099422</td>\n",
       "      <td>1.118252</td>\n",
       "      <td>40</td>\n",
       "    </tr>\n",
       "    <tr>\n",
       "      <td>2020-01-05</td>\n",
       "      <td>0.332356</td>\n",
       "      <td>-0.517262</td>\n",
       "      <td>0.227473</td>\n",
       "      <td>-0.686535</td>\n",
       "      <td>-0.199573</td>\n",
       "      <td>0.126164</td>\n",
       "      <td>50</td>\n",
       "    </tr>\n",
       "    <tr>\n",
       "      <td>2020-01-06</td>\n",
       "      <td>-0.864971</td>\n",
       "      <td>0.478215</td>\n",
       "      <td>0.108557</td>\n",
       "      <td>0.519524</td>\n",
       "      <td>0.237151</td>\n",
       "      <td>1.319588</td>\n",
       "      <td>60</td>\n",
       "    </tr>\n",
       "  </tbody>\n",
       "</table>\n",
       "</div>"
      ],
      "text/plain": [
       "                   A         B         C         D         E         F   G\n",
       "2020-01-01  0.207325 -0.496797  0.106358  0.882424  0.753371 -1.186406  10\n",
       "2020-01-02  0.585826  1.589052 -0.611083 -0.676850  0.468258 -0.719164  20\n",
       "2020-01-03 -1.479526 -0.813674  0.580145  1.110416  1.712101 -0.874593  30\n",
       "2020-01-04  1.328692  0.240333  1.124939  0.369621 -0.099422  1.118252  40\n",
       "2020-01-05  0.332356 -0.517262  0.227473 -0.686535 -0.199573  0.126164  50\n",
       "2020-01-06 -0.864971  0.478215  0.108557  0.519524  0.237151  1.319588  60"
      ]
     },
     "execution_count": 176,
     "metadata": {},
     "output_type": "execute_result"
    }
   ],
   "source": [
    "dd3['G']=['10','20','30','40','50','60']#entering another column with values\n",
    "dd3"
   ]
  },
  {
   "cell_type": "code",
   "execution_count": null,
   "metadata": {},
   "outputs": [],
   "source": []
  }
 ],
 "metadata": {
  "kernelspec": {
   "display_name": "Python 3",
   "language": "python",
   "name": "python3"
  },
  "language_info": {
   "codemirror_mode": {
    "name": "ipython",
    "version": 3
   },
   "file_extension": ".py",
   "mimetype": "text/x-python",
   "name": "python",
   "nbconvert_exporter": "python",
   "pygments_lexer": "ipython3",
   "version": "3.7.4"
  }
 },
 "nbformat": 4,
 "nbformat_minor": 2
}
